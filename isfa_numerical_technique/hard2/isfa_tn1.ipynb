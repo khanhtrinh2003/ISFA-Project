{
 "cells": [
  {
   "cell_type": "markdown",
   "id": "0ad8d5ce",
   "metadata": {},
   "source": [
    "https://www.insee.fr/fr/statistiques/serie/010567058"
   ]
  },
  {
   "cell_type": "code",
   "execution_count": 1,
   "id": "c7ee1fa3",
   "metadata": {},
   "outputs": [],
   "source": [
    "import pandas as pd"
   ]
  },
  {
   "cell_type": "code",
   "execution_count": 6,
   "id": "184a5cd6",
   "metadata": {},
   "outputs": [
    {
     "data": {
      "application/vnd.microsoft.datawrangler.viewer.v0+json": {
       "columns": [
        {
         "name": "index",
         "rawType": "int64",
         "type": "integer"
        },
        {
         "name": "Libellé",
         "rawType": "object",
         "type": "string"
        },
        {
         "name": "Indice des prix des logements anciens - France métropolitaine - Ensemble - Base 100 en moyenne annuelle 2015 - Série brute",
         "rawType": "object",
         "type": "unknown"
        },
        {
         "name": "Codes",
         "rawType": "object",
         "type": "unknown"
        }
       ],
       "ref": "57b17aff-7960-429c-96f5-4be4ff0e8d0e",
       "rows": [
        [
         "0",
         "idBank",
         "010567058",
         null
        ],
        [
         "1",
         "Dernière mise à jour",
         "09/09/2025 08:45",
         null
        ],
        [
         "2",
         "Période",
         null,
         null
        ],
        [
         "3",
         "2025-T4",
         null,
         null
        ],
        [
         "4",
         "2025-T3",
         null,
         null
        ],
        [
         "5",
         "2025-T2",
         "125.8",
         "P"
        ],
        [
         "6",
         "2025-T1",
         "126.1",
         "A"
        ],
        [
         "7",
         "2024-T4",
         "126.0",
         "A"
        ],
        [
         "8",
         "2024-T3",
         "127.5",
         "A"
        ],
        [
         "9",
         "2024-T2",
         "125.4",
         "A"
        ],
        [
         "10",
         "2024-T1",
         "125.8",
         "A"
        ],
        [
         "11",
         "2023-T4",
         "128.8",
         "A"
        ],
        [
         "12",
         "2023-T3",
         "132.6",
         "A"
        ],
        [
         "13",
         "2023-T2",
         "132.0",
         "A"
        ],
        [
         "14",
         "2023-T1",
         "132.7",
         "A"
        ],
        [
         "15",
         "2022-T4",
         "134.0",
         "A"
        ],
        [
         "16",
         "2022-T3",
         "135.1",
         "A"
        ],
        [
         "17",
         "2022-T2",
         "131.3",
         "A"
        ],
        [
         "18",
         "2022-T1",
         "129.3",
         "A"
        ],
        [
         "19",
         "2021-T4",
         "128.2",
         "A"
        ],
        [
         "20",
         "2021-T3",
         "126.9",
         "A"
        ],
        [
         "21",
         "2021-T2",
         "122.9",
         "A"
        ],
        [
         "22",
         "2021-T1",
         "120.5",
         "A"
        ],
        [
         "23",
         "2020-T4",
         "119.6",
         "A"
        ],
        [
         "24",
         "2020-T3",
         "118.1",
         "A"
        ],
        [
         "25",
         "2020-T2",
         "115.7",
         "A"
        ],
        [
         "26",
         "2020-T1",
         "113.7",
         "A"
        ],
        [
         "27",
         "2019-T4",
         "112.4",
         "A"
        ],
        [
         "28",
         "2019-T3",
         "112.2",
         "A"
        ],
        [
         "29",
         "2019-T2",
         "109.4",
         "A"
        ],
        [
         "30",
         "2019-T1",
         "108.3",
         "A"
        ],
        [
         "31",
         "2018-T4",
         "108.3",
         "A"
        ],
        [
         "32",
         "2018-T3",
         "108.8",
         "A"
        ],
        [
         "33",
         "2018-T2",
         "106.1",
         "A"
        ],
        [
         "34",
         "2018-T1",
         "105.2",
         "A"
        ],
        [
         "35",
         "2017-T4",
         "104.9",
         "A"
        ],
        [
         "36",
         "2017-T3",
         "105.7",
         "A"
        ],
        [
         "37",
         "2017-T2",
         "103.2",
         "A"
        ],
        [
         "38",
         "2017-T1",
         "102.1",
         "A"
        ],
        [
         "39",
         "2016-T4",
         "101.6",
         "A"
        ],
        [
         "40",
         "2016-T3",
         "102.3",
         "A"
        ],
        [
         "41",
         "2016-T2",
         "100.1",
         "A"
        ],
        [
         "42",
         "2016-T1",
         "99.7",
         "A"
        ],
        [
         "43",
         "2015-T4",
         "100.1",
         "A"
        ],
        [
         "44",
         "2015-T3",
         "101.0",
         "A"
        ],
        [
         "45",
         "2015-T2",
         "99.5",
         "A"
        ],
        [
         "46",
         "2015-T1",
         "99.4",
         "A"
        ],
        [
         "47",
         "2014-T4",
         "100.6",
         "A"
        ],
        [
         "48",
         "2014-T3",
         "102.9",
         "A"
        ],
        [
         "49",
         "2014-T2",
         "102.2",
         "A"
        ]
       ],
       "shape": {
        "columns": 3,
        "rows": 123
       }
      },
      "text/html": [
       "<div>\n",
       "<style scoped>\n",
       "    .dataframe tbody tr th:only-of-type {\n",
       "        vertical-align: middle;\n",
       "    }\n",
       "\n",
       "    .dataframe tbody tr th {\n",
       "        vertical-align: top;\n",
       "    }\n",
       "\n",
       "    .dataframe thead th {\n",
       "        text-align: right;\n",
       "    }\n",
       "</style>\n",
       "<table border=\"1\" class=\"dataframe\">\n",
       "  <thead>\n",
       "    <tr style=\"text-align: right;\">\n",
       "      <th></th>\n",
       "      <th>Libellé</th>\n",
       "      <th>Indice des prix des logements anciens - France métropolitaine - Ensemble - Base 100 en moyenne annuelle 2015 - Série brute</th>\n",
       "      <th>Codes</th>\n",
       "    </tr>\n",
       "  </thead>\n",
       "  <tbody>\n",
       "    <tr>\n",
       "      <th>0</th>\n",
       "      <td>idBank</td>\n",
       "      <td>010567058</td>\n",
       "      <td>NaN</td>\n",
       "    </tr>\n",
       "    <tr>\n",
       "      <th>1</th>\n",
       "      <td>Dernière mise à jour</td>\n",
       "      <td>09/09/2025 08:45</td>\n",
       "      <td>NaN</td>\n",
       "    </tr>\n",
       "    <tr>\n",
       "      <th>2</th>\n",
       "      <td>Période</td>\n",
       "      <td>NaN</td>\n",
       "      <td>NaN</td>\n",
       "    </tr>\n",
       "    <tr>\n",
       "      <th>3</th>\n",
       "      <td>2025-T4</td>\n",
       "      <td>NaN</td>\n",
       "      <td>NaN</td>\n",
       "    </tr>\n",
       "    <tr>\n",
       "      <th>4</th>\n",
       "      <td>2025-T3</td>\n",
       "      <td>NaN</td>\n",
       "      <td>NaN</td>\n",
       "    </tr>\n",
       "    <tr>\n",
       "      <th>...</th>\n",
       "      <td>...</td>\n",
       "      <td>...</td>\n",
       "      <td>...</td>\n",
       "    </tr>\n",
       "    <tr>\n",
       "      <th>118</th>\n",
       "      <td>1997-T1</td>\n",
       "      <td>40.3</td>\n",
       "      <td>A</td>\n",
       "    </tr>\n",
       "    <tr>\n",
       "      <th>119</th>\n",
       "      <td>1996-T4</td>\n",
       "      <td>41.9</td>\n",
       "      <td>A</td>\n",
       "    </tr>\n",
       "    <tr>\n",
       "      <th>120</th>\n",
       "      <td>1996-T3</td>\n",
       "      <td>42.1</td>\n",
       "      <td>A</td>\n",
       "    </tr>\n",
       "    <tr>\n",
       "      <th>121</th>\n",
       "      <td>1996-T2</td>\n",
       "      <td>41.3</td>\n",
       "      <td>A</td>\n",
       "    </tr>\n",
       "    <tr>\n",
       "      <th>122</th>\n",
       "      <td>1996-T1</td>\n",
       "      <td>40.8</td>\n",
       "      <td>A</td>\n",
       "    </tr>\n",
       "  </tbody>\n",
       "</table>\n",
       "<p>123 rows × 3 columns</p>\n",
       "</div>"
      ],
      "text/plain": [
       "                  Libellé  \\\n",
       "0                  idBank   \n",
       "1    Dernière mise à jour   \n",
       "2                 Période   \n",
       "3                 2025-T4   \n",
       "4                 2025-T3   \n",
       "..                    ...   \n",
       "118               1997-T1   \n",
       "119               1996-T4   \n",
       "120               1996-T3   \n",
       "121               1996-T2   \n",
       "122               1996-T1   \n",
       "\n",
       "    Indice des prix des logements anciens - France métropolitaine - Ensemble - Base 100 en moyenne annuelle 2015 - Série brute  \\\n",
       "0                                            010567058                                                                           \n",
       "1                                     09/09/2025 08:45                                                                           \n",
       "2                                                  NaN                                                                           \n",
       "3                                                  NaN                                                                           \n",
       "4                                                  NaN                                                                           \n",
       "..                                                 ...                                                                           \n",
       "118                                               40.3                                                                           \n",
       "119                                               41.9                                                                           \n",
       "120                                               42.1                                                                           \n",
       "121                                               41.3                                                                           \n",
       "122                                               40.8                                                                           \n",
       "\n",
       "    Codes  \n",
       "0     NaN  \n",
       "1     NaN  \n",
       "2     NaN  \n",
       "3     NaN  \n",
       "4     NaN  \n",
       "..    ...  \n",
       "118     A  \n",
       "119     A  \n",
       "120     A  \n",
       "121     A  \n",
       "122     A  \n",
       "\n",
       "[123 rows x 3 columns]"
      ]
     },
     "execution_count": 6,
     "metadata": {},
     "output_type": "execute_result"
    }
   ],
   "source": [
    "df=pd.read_csv(\"../data/sujet1/valeurs_trimestrielles.csv\",sep=\";\")\n",
    "df"
   ]
  },
  {
   "cell_type": "code",
   "execution_count": 7,
   "id": "fb463901",
   "metadata": {},
   "outputs": [
    {
     "data": {
      "application/vnd.microsoft.datawrangler.viewer.v0+json": {
       "columns": [
        {
         "name": "index",
         "rawType": "int64",
         "type": "integer"
        },
        {
         "name": "idBank",
         "rawType": "object",
         "type": "unknown"
        },
        {
         "name": "Dernière mise à jour",
         "rawType": "object",
         "type": "unknown"
        },
        {
         "name": "Puissance",
         "rawType": "float64",
         "type": "float"
        },
        {
         "name": "Zone géographique",
         "rawType": "object",
         "type": "unknown"
        },
        {
         "name": "Unité",
         "rawType": "object",
         "type": "unknown"
        },
        {
         "name": "Nature",
         "rawType": "object",
         "type": "unknown"
        },
        {
         "name": "Périodicité",
         "rawType": "object",
         "type": "unknown"
        },
        {
         "name": "﻿Base de l'indice",
         "rawType": "float64",
         "type": "float"
        },
        {
         "name": "Correction",
         "rawType": "object",
         "type": "unknown"
        },
        {
         "name": "Indicateur",
         "rawType": "object",
         "type": "unknown"
        },
        {
         "name": "Série arrêtée",
         "rawType": "object",
         "type": "unknown"
        }
       ],
       "ref": "4ce98d8c-441c-4487-8553-9faa0d77bafc",
       "rows": [
        [
         "0",
         "010567058",
         "09/09/2025 08:45",
         "0.0",
         "France métropolitaine",
         "sans objet",
         "Indice",
         "Trimestrielle",
         "2015.0",
         "Non corrigé",
         "Indice de prix des logements anciens",
         "non"
        ],
        [
         "1",
         null,
         null,
         null,
         null,
         null,
         null,
         null,
         null,
         null,
         null,
         null
        ],
        [
         "2",
         "Codes",
         null,
         null,
         null,
         null,
         null,
         null,
         null,
         null,
         null,
         null
        ],
        [
         "3",
         null,
         null,
         null,
         null,
         null,
         null,
         null,
         null,
         null,
         null,
         null
        ],
        [
         "4",
         "Q",
         "Couvert par le secret statistique",
         null,
         null,
         null,
         null,
         null,
         null,
         null,
         null,
         null
        ],
        [
         "5",
         "E",
         "Estimation",
         null,
         null,
         null,
         null,
         null,
         null,
         null,
         null,
         null
        ],
        [
         "6",
         "F",
         "Prévision",
         null,
         null,
         null,
         null,
         null,
         null,
         null,
         null,
         null
        ],
        [
         "7",
         "P",
         "Provisoire",
         null,
         null,
         null,
         null,
         null,
         null,
         null,
         null,
         null
        ],
        [
         "8",
         "SD",
         "Valeur semi-définitive",
         null,
         null,
         null,
         null,
         null,
         null,
         null,
         null,
         null
        ],
        [
         "9",
         "R",
         "Révision",
         null,
         null,
         null,
         null,
         null,
         null,
         null,
         null,
         null
        ],
        [
         "10",
         "A",
         "Valeur normale",
         null,
         null,
         null,
         null,
         null,
         null,
         null,
         null,
         null
        ],
        [
         "11",
         "N",
         "Valeur non significative",
         null,
         null,
         null,
         null,
         null,
         null,
         null,
         null,
         null
        ],
        [
         "12",
         "O",
         "Valeur manquante",
         null,
         null,
         null,
         null,
         null,
         null,
         null,
         null,
         null
        ],
        [
         "13",
         "U",
         "Valeur atypique",
         null,
         null,
         null,
         null,
         null,
         null,
         null,
         null,
         null
        ]
       ],
       "shape": {
        "columns": 11,
        "rows": 14
       }
      },
      "text/html": [
       "<div>\n",
       "<style scoped>\n",
       "    .dataframe tbody tr th:only-of-type {\n",
       "        vertical-align: middle;\n",
       "    }\n",
       "\n",
       "    .dataframe tbody tr th {\n",
       "        vertical-align: top;\n",
       "    }\n",
       "\n",
       "    .dataframe thead th {\n",
       "        text-align: right;\n",
       "    }\n",
       "</style>\n",
       "<table border=\"1\" class=\"dataframe\">\n",
       "  <thead>\n",
       "    <tr style=\"text-align: right;\">\n",
       "      <th></th>\n",
       "      <th>idBank</th>\n",
       "      <th>Dernière mise à jour</th>\n",
       "      <th>Puissance</th>\n",
       "      <th>Zone géographique</th>\n",
       "      <th>Unité</th>\n",
       "      <th>Nature</th>\n",
       "      <th>Périodicité</th>\n",
       "      <th>﻿Base de l'indice</th>\n",
       "      <th>Correction</th>\n",
       "      <th>Indicateur</th>\n",
       "      <th>Série arrêtée</th>\n",
       "    </tr>\n",
       "  </thead>\n",
       "  <tbody>\n",
       "    <tr>\n",
       "      <th>0</th>\n",
       "      <td>010567058</td>\n",
       "      <td>09/09/2025 08:45</td>\n",
       "      <td>0.0</td>\n",
       "      <td>France métropolitaine</td>\n",
       "      <td>sans objet</td>\n",
       "      <td>Indice</td>\n",
       "      <td>Trimestrielle</td>\n",
       "      <td>2015.0</td>\n",
       "      <td>Non corrigé</td>\n",
       "      <td>Indice de prix des logements anciens</td>\n",
       "      <td>non</td>\n",
       "    </tr>\n",
       "    <tr>\n",
       "      <th>1</th>\n",
       "      <td>NaN</td>\n",
       "      <td>NaN</td>\n",
       "      <td>NaN</td>\n",
       "      <td>NaN</td>\n",
       "      <td>NaN</td>\n",
       "      <td>NaN</td>\n",
       "      <td>NaN</td>\n",
       "      <td>NaN</td>\n",
       "      <td>NaN</td>\n",
       "      <td>NaN</td>\n",
       "      <td>NaN</td>\n",
       "    </tr>\n",
       "    <tr>\n",
       "      <th>2</th>\n",
       "      <td>Codes</td>\n",
       "      <td>NaN</td>\n",
       "      <td>NaN</td>\n",
       "      <td>NaN</td>\n",
       "      <td>NaN</td>\n",
       "      <td>NaN</td>\n",
       "      <td>NaN</td>\n",
       "      <td>NaN</td>\n",
       "      <td>NaN</td>\n",
       "      <td>NaN</td>\n",
       "      <td>NaN</td>\n",
       "    </tr>\n",
       "    <tr>\n",
       "      <th>3</th>\n",
       "      <td>NaN</td>\n",
       "      <td>NaN</td>\n",
       "      <td>NaN</td>\n",
       "      <td>NaN</td>\n",
       "      <td>NaN</td>\n",
       "      <td>NaN</td>\n",
       "      <td>NaN</td>\n",
       "      <td>NaN</td>\n",
       "      <td>NaN</td>\n",
       "      <td>NaN</td>\n",
       "      <td>NaN</td>\n",
       "    </tr>\n",
       "    <tr>\n",
       "      <th>4</th>\n",
       "      <td>Q</td>\n",
       "      <td>Couvert par le secret statistique</td>\n",
       "      <td>NaN</td>\n",
       "      <td>NaN</td>\n",
       "      <td>NaN</td>\n",
       "      <td>NaN</td>\n",
       "      <td>NaN</td>\n",
       "      <td>NaN</td>\n",
       "      <td>NaN</td>\n",
       "      <td>NaN</td>\n",
       "      <td>NaN</td>\n",
       "    </tr>\n",
       "    <tr>\n",
       "      <th>5</th>\n",
       "      <td>E</td>\n",
       "      <td>Estimation</td>\n",
       "      <td>NaN</td>\n",
       "      <td>NaN</td>\n",
       "      <td>NaN</td>\n",
       "      <td>NaN</td>\n",
       "      <td>NaN</td>\n",
       "      <td>NaN</td>\n",
       "      <td>NaN</td>\n",
       "      <td>NaN</td>\n",
       "      <td>NaN</td>\n",
       "    </tr>\n",
       "    <tr>\n",
       "      <th>6</th>\n",
       "      <td>F</td>\n",
       "      <td>Prévision</td>\n",
       "      <td>NaN</td>\n",
       "      <td>NaN</td>\n",
       "      <td>NaN</td>\n",
       "      <td>NaN</td>\n",
       "      <td>NaN</td>\n",
       "      <td>NaN</td>\n",
       "      <td>NaN</td>\n",
       "      <td>NaN</td>\n",
       "      <td>NaN</td>\n",
       "    </tr>\n",
       "    <tr>\n",
       "      <th>7</th>\n",
       "      <td>P</td>\n",
       "      <td>Provisoire</td>\n",
       "      <td>NaN</td>\n",
       "      <td>NaN</td>\n",
       "      <td>NaN</td>\n",
       "      <td>NaN</td>\n",
       "      <td>NaN</td>\n",
       "      <td>NaN</td>\n",
       "      <td>NaN</td>\n",
       "      <td>NaN</td>\n",
       "      <td>NaN</td>\n",
       "    </tr>\n",
       "    <tr>\n",
       "      <th>8</th>\n",
       "      <td>SD</td>\n",
       "      <td>Valeur semi-définitive</td>\n",
       "      <td>NaN</td>\n",
       "      <td>NaN</td>\n",
       "      <td>NaN</td>\n",
       "      <td>NaN</td>\n",
       "      <td>NaN</td>\n",
       "      <td>NaN</td>\n",
       "      <td>NaN</td>\n",
       "      <td>NaN</td>\n",
       "      <td>NaN</td>\n",
       "    </tr>\n",
       "    <tr>\n",
       "      <th>9</th>\n",
       "      <td>R</td>\n",
       "      <td>Révision</td>\n",
       "      <td>NaN</td>\n",
       "      <td>NaN</td>\n",
       "      <td>NaN</td>\n",
       "      <td>NaN</td>\n",
       "      <td>NaN</td>\n",
       "      <td>NaN</td>\n",
       "      <td>NaN</td>\n",
       "      <td>NaN</td>\n",
       "      <td>NaN</td>\n",
       "    </tr>\n",
       "    <tr>\n",
       "      <th>10</th>\n",
       "      <td>A</td>\n",
       "      <td>Valeur normale</td>\n",
       "      <td>NaN</td>\n",
       "      <td>NaN</td>\n",
       "      <td>NaN</td>\n",
       "      <td>NaN</td>\n",
       "      <td>NaN</td>\n",
       "      <td>NaN</td>\n",
       "      <td>NaN</td>\n",
       "      <td>NaN</td>\n",
       "      <td>NaN</td>\n",
       "    </tr>\n",
       "    <tr>\n",
       "      <th>11</th>\n",
       "      <td>N</td>\n",
       "      <td>Valeur non significative</td>\n",
       "      <td>NaN</td>\n",
       "      <td>NaN</td>\n",
       "      <td>NaN</td>\n",
       "      <td>NaN</td>\n",
       "      <td>NaN</td>\n",
       "      <td>NaN</td>\n",
       "      <td>NaN</td>\n",
       "      <td>NaN</td>\n",
       "      <td>NaN</td>\n",
       "    </tr>\n",
       "    <tr>\n",
       "      <th>12</th>\n",
       "      <td>O</td>\n",
       "      <td>Valeur manquante</td>\n",
       "      <td>NaN</td>\n",
       "      <td>NaN</td>\n",
       "      <td>NaN</td>\n",
       "      <td>NaN</td>\n",
       "      <td>NaN</td>\n",
       "      <td>NaN</td>\n",
       "      <td>NaN</td>\n",
       "      <td>NaN</td>\n",
       "      <td>NaN</td>\n",
       "    </tr>\n",
       "    <tr>\n",
       "      <th>13</th>\n",
       "      <td>U</td>\n",
       "      <td>Valeur atypique</td>\n",
       "      <td>NaN</td>\n",
       "      <td>NaN</td>\n",
       "      <td>NaN</td>\n",
       "      <td>NaN</td>\n",
       "      <td>NaN</td>\n",
       "      <td>NaN</td>\n",
       "      <td>NaN</td>\n",
       "      <td>NaN</td>\n",
       "      <td>NaN</td>\n",
       "    </tr>\n",
       "  </tbody>\n",
       "</table>\n",
       "</div>"
      ],
      "text/plain": [
       "       idBank               Dernière mise à jour  Puissance  \\\n",
       "0   010567058                   09/09/2025 08:45        0.0   \n",
       "1         NaN                                NaN        NaN   \n",
       "2       Codes                                NaN        NaN   \n",
       "3         NaN                                NaN        NaN   \n",
       "4           Q  Couvert par le secret statistique        NaN   \n",
       "5           E                         Estimation        NaN   \n",
       "6           F                          Prévision        NaN   \n",
       "7           P                         Provisoire        NaN   \n",
       "8          SD             Valeur semi-définitive        NaN   \n",
       "9           R                           Révision        NaN   \n",
       "10          A                     Valeur normale        NaN   \n",
       "11          N           Valeur non significative        NaN   \n",
       "12          O                   Valeur manquante        NaN   \n",
       "13          U                    Valeur atypique        NaN   \n",
       "\n",
       "        Zone géographique       Unité  Nature    Périodicité  \\\n",
       "0   France métropolitaine  sans objet  Indice  Trimestrielle   \n",
       "1                     NaN         NaN     NaN            NaN   \n",
       "2                     NaN         NaN     NaN            NaN   \n",
       "3                     NaN         NaN     NaN            NaN   \n",
       "4                     NaN         NaN     NaN            NaN   \n",
       "5                     NaN         NaN     NaN            NaN   \n",
       "6                     NaN         NaN     NaN            NaN   \n",
       "7                     NaN         NaN     NaN            NaN   \n",
       "8                     NaN         NaN     NaN            NaN   \n",
       "9                     NaN         NaN     NaN            NaN   \n",
       "10                    NaN         NaN     NaN            NaN   \n",
       "11                    NaN         NaN     NaN            NaN   \n",
       "12                    NaN         NaN     NaN            NaN   \n",
       "13                    NaN         NaN     NaN            NaN   \n",
       "\n",
       "    ﻿Base de l'indice   Correction                            Indicateur  \\\n",
       "0              2015.0  Non corrigé  Indice de prix des logements anciens   \n",
       "1                 NaN          NaN                                   NaN   \n",
       "2                 NaN          NaN                                   NaN   \n",
       "3                 NaN          NaN                                   NaN   \n",
       "4                 NaN          NaN                                   NaN   \n",
       "5                 NaN          NaN                                   NaN   \n",
       "6                 NaN          NaN                                   NaN   \n",
       "7                 NaN          NaN                                   NaN   \n",
       "8                 NaN          NaN                                   NaN   \n",
       "9                 NaN          NaN                                   NaN   \n",
       "10                NaN          NaN                                   NaN   \n",
       "11                NaN          NaN                                   NaN   \n",
       "12                NaN          NaN                                   NaN   \n",
       "13                NaN          NaN                                   NaN   \n",
       "\n",
       "   Série arrêtée  \n",
       "0            non  \n",
       "1            NaN  \n",
       "2            NaN  \n",
       "3            NaN  \n",
       "4            NaN  \n",
       "5            NaN  \n",
       "6            NaN  \n",
       "7            NaN  \n",
       "8            NaN  \n",
       "9            NaN  \n",
       "10           NaN  \n",
       "11           NaN  \n",
       "12           NaN  \n",
       "13           NaN  "
      ]
     },
     "execution_count": 7,
     "metadata": {},
     "output_type": "execute_result"
    }
   ],
   "source": [
    "df1=pd.read_csv(\"../data/sujet1/caractéristiques.csv\",sep=\";\")\n",
    "df1"
   ]
  },
  {
   "cell_type": "markdown",
   "id": "7671fc8b",
   "metadata": {},
   "source": [
    "import "
   ]
  }
 ],
 "metadata": {
  "kernelspec": {
   "display_name": "VNFin",
   "language": "python",
   "name": "python3"
  },
  "language_info": {
   "codemirror_mode": {
    "name": "ipython",
    "version": 3
   },
   "file_extension": ".py",
   "mimetype": "text/x-python",
   "name": "python",
   "nbconvert_exporter": "python",
   "pygments_lexer": "ipython3",
   "version": "3.12.4"
  }
 },
 "nbformat": 4,
 "nbformat_minor": 5
}
